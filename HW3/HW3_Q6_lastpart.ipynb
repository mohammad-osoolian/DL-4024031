{
  "nbformat": 4,
  "nbformat_minor": 0,
  "metadata": {
    "colab": {
      "provenance": []
    },
    "kernelspec": {
      "name": "python3",
      "display_name": "Python 3"
    },
    "language_info": {
      "name": "python"
    }
  },
  "cells": [
    {
      "cell_type": "code",
      "execution_count": 75,
      "metadata": {
        "id": "l6q0i7olURHd"
      },
      "outputs": [],
      "source": [
        "import keras\n",
        "from keras.layers import *\n",
        "import numpy as np"
      ]
    },
    {
      "cell_type": "code",
      "source": [
        "x = np.random.random((100, 30, 30, 3))\n",
        "y = np.array([np.mean(x[i]) > 0.5 for i in range(x.shape[0])])"
      ],
      "metadata": {
        "id": "Mc0YMAYGVasa"
      },
      "execution_count": 76,
      "outputs": []
    },
    {
      "cell_type": "code",
      "source": [
        "keras.utils.set_random_seed(27)\n",
        "model = keras.Sequential()\n",
        "model.add(Input(shape=(30, 30, 3)))\n",
        "model.add(Conv2D(filters=16, kernel_size=5, activation='relu'))\n",
        "model.add(Conv2D(filters=1, kernel_size=1, activation='relu'))\n",
        "model.add(Flatten())\n",
        "model.add(Dense(units=1, activation='sigmoid'))"
      ],
      "metadata": {
        "id": "qqpZc6OJUdIz"
      },
      "execution_count": 77,
      "outputs": []
    },
    {
      "cell_type": "code",
      "source": [
        "model.compile(optimizer='adam', loss='binary_crossentropy', metrics=['accuracy'])"
      ],
      "metadata": {
        "id": "OI1MbbrAVCgs"
      },
      "execution_count": 78,
      "outputs": []
    },
    {
      "cell_type": "code",
      "source": [
        "model.summary()"
      ],
      "metadata": {
        "colab": {
          "base_uri": "https://localhost:8080/"
        },
        "id": "2aEBp0jCVZS4",
        "outputId": "9d90dda6-cdc1-4767-dc2d-05c4a1d872cf"
      },
      "execution_count": 79,
      "outputs": [
        {
          "output_type": "stream",
          "name": "stdout",
          "text": [
            "Model: \"sequential_12\"\n",
            "_________________________________________________________________\n",
            " Layer (type)                Output Shape              Param #   \n",
            "=================================================================\n",
            " conv2d_24 (Conv2D)          (None, 26, 26, 16)        1216      \n",
            "                                                                 \n",
            " conv2d_25 (Conv2D)          (None, 26, 26, 1)         17        \n",
            "                                                                 \n",
            " flatten_9 (Flatten)         (None, 676)               0         \n",
            "                                                                 \n",
            " dense_11 (Dense)            (None, 1)                 677       \n",
            "                                                                 \n",
            "=================================================================\n",
            "Total params: 1910 (7.46 KB)\n",
            "Trainable params: 1910 (7.46 KB)\n",
            "Non-trainable params: 0 (0.00 Byte)\n",
            "_________________________________________________________________\n"
          ]
        }
      ]
    },
    {
      "cell_type": "code",
      "source": [
        "model.fit(x, y, epochs=30)"
      ],
      "metadata": {
        "colab": {
          "base_uri": "https://localhost:8080/"
        },
        "id": "Jw-YWaiVWaiO",
        "outputId": "6d3bd7b7-99b5-41dc-89e2-e2ecba616884"
      },
      "execution_count": 80,
      "outputs": [
        {
          "output_type": "stream",
          "name": "stdout",
          "text": [
            "Epoch 1/30\n",
            "4/4 [==============================] - 1s 29ms/step - loss: 0.7013 - accuracy: 0.4800\n",
            "Epoch 2/30\n",
            "4/4 [==============================] - 0s 22ms/step - loss: 0.6914 - accuracy: 0.5200\n",
            "Epoch 3/30\n",
            "4/4 [==============================] - 0s 22ms/step - loss: 0.6936 - accuracy: 0.4200\n",
            "Epoch 4/30\n",
            "4/4 [==============================] - 0s 22ms/step - loss: 0.6935 - accuracy: 0.4100\n",
            "Epoch 5/30\n",
            "4/4 [==============================] - 0s 23ms/step - loss: 0.6924 - accuracy: 0.4700\n",
            "Epoch 6/30\n",
            "4/4 [==============================] - 0s 23ms/step - loss: 0.6900 - accuracy: 0.5500\n",
            "Epoch 7/30\n",
            "4/4 [==============================] - 0s 22ms/step - loss: 0.6821 - accuracy: 0.6000\n",
            "Epoch 8/30\n",
            "4/4 [==============================] - 0s 21ms/step - loss: 0.6683 - accuracy: 0.6600\n",
            "Epoch 9/30\n",
            "4/4 [==============================] - 0s 22ms/step - loss: 0.6630 - accuracy: 0.5800\n",
            "Epoch 10/30\n",
            "4/4 [==============================] - 0s 22ms/step - loss: 0.6526 - accuracy: 0.6100\n",
            "Epoch 11/30\n",
            "4/4 [==============================] - 0s 23ms/step - loss: 0.6384 - accuracy: 0.7700\n",
            "Epoch 12/30\n",
            "4/4 [==============================] - 0s 20ms/step - loss: 0.6282 - accuracy: 0.7400\n",
            "Epoch 13/30\n",
            "4/4 [==============================] - 0s 21ms/step - loss: 0.6154 - accuracy: 0.6900\n",
            "Epoch 14/30\n",
            "4/4 [==============================] - 0s 23ms/step - loss: 0.6048 - accuracy: 0.6600\n",
            "Epoch 15/30\n",
            "4/4 [==============================] - 0s 22ms/step - loss: 0.6053 - accuracy: 0.6300\n",
            "Epoch 16/30\n",
            "4/4 [==============================] - 0s 23ms/step - loss: 0.5789 - accuracy: 0.7800\n",
            "Epoch 17/30\n",
            "4/4 [==============================] - 0s 22ms/step - loss: 0.5717 - accuracy: 0.8400\n",
            "Epoch 18/30\n",
            "4/4 [==============================] - 0s 22ms/step - loss: 0.5616 - accuracy: 0.8600\n",
            "Epoch 19/30\n",
            "4/4 [==============================] - 0s 21ms/step - loss: 0.5410 - accuracy: 0.8700\n",
            "Epoch 20/30\n",
            "4/4 [==============================] - 0s 22ms/step - loss: 0.5227 - accuracy: 0.8700\n",
            "Epoch 21/30\n",
            "4/4 [==============================] - 0s 25ms/step - loss: 0.5164 - accuracy: 0.8300\n",
            "Epoch 22/30\n",
            "4/4 [==============================] - 0s 21ms/step - loss: 0.5011 - accuracy: 0.8800\n",
            "Epoch 23/30\n",
            "4/4 [==============================] - 0s 21ms/step - loss: 0.4779 - accuracy: 0.9100\n",
            "Epoch 24/30\n",
            "4/4 [==============================] - 0s 21ms/step - loss: 0.4616 - accuracy: 0.9000\n",
            "Epoch 25/30\n",
            "4/4 [==============================] - 0s 22ms/step - loss: 0.4464 - accuracy: 0.9200\n",
            "Epoch 26/30\n",
            "4/4 [==============================] - 0s 20ms/step - loss: 0.4299 - accuracy: 0.9400\n",
            "Epoch 27/30\n",
            "4/4 [==============================] - 0s 21ms/step - loss: 0.4170 - accuracy: 0.9300\n",
            "Epoch 28/30\n",
            "4/4 [==============================] - 0s 21ms/step - loss: 0.3937 - accuracy: 0.9500\n",
            "Epoch 29/30\n",
            "4/4 [==============================] - 0s 20ms/step - loss: 0.3738 - accuracy: 0.9600\n",
            "Epoch 30/30\n",
            "4/4 [==============================] - 0s 22ms/step - loss: 0.3548 - accuracy: 0.9600\n"
          ]
        },
        {
          "output_type": "execute_result",
          "data": {
            "text/plain": [
              "<keras.src.callbacks.History at 0x7c9fe8953610>"
            ]
          },
          "metadata": {},
          "execution_count": 80
        }
      ]
    },
    {
      "cell_type": "code",
      "source": [],
      "metadata": {
        "id": "0SaT_EUXXtDo"
      },
      "execution_count": null,
      "outputs": []
    }
  ]
}