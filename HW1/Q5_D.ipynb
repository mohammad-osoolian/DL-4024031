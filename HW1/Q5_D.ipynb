{
  "nbformat": 4,
  "nbformat_minor": 0,
  "metadata": {
    "colab": {
      "provenance": []
    },
    "kernelspec": {
      "name": "python3",
      "display_name": "Python 3"
    },
    "language_info": {
      "name": "python"
    }
  },
  "cells": [
    {
      "cell_type": "code",
      "execution_count": null,
      "metadata": {
        "id": "bBPPSnDsd9MZ"
      },
      "outputs": [],
      "source": [
        "import os\n",
        "import torch\n",
        "from torch import nn\n",
        "# from torchvision.datasets import CIFAR10\n",
        "from torch.utils.data import DataLoader\n",
        "from torchvision import transforms\n",
        "import numpy as np\n"
      ]
    },
    {
      "cell_type": "code",
      "source": [
        "class MLP(nn.Module):\n",
        "  '''\n",
        "    Multilayer Perceptron.\n",
        "  '''\n",
        "  def __init__(self):\n",
        "    super().__init__()\n",
        "    self.layers = nn.Sequential(\n",
        "      nn.Flatten(),\n",
        "      nn.Linear(8 * 8, 10),\n",
        "      nn.ReLU(),\n",
        "      nn.Linear(10, 3),\n",
        "      nn.Softmax()\n",
        "    )\n",
        "\n",
        "\n",
        "  def forward(self, x):\n",
        "    '''Forward pass'''\n",
        "    return self.layers(x)"
      ],
      "metadata": {
        "id": "fsxfMlIBedLR"
      },
      "execution_count": null,
      "outputs": []
    },
    {
      "cell_type": "code",
      "source": [
        "x1 = np.array([[0, 0, 0, 0, 0, 0, 0, 0,],\n",
        "               [0, 0, 0, 0, 0, 0, 0, 0,],\n",
        "               [0, 0, 0, 0, 0, 1, 1, 0,],\n",
        "               [0, 0, 1, 0, 1, 0, 0, 1,],\n",
        "               [1, 0, 1, 1, 1, 1, 1, 1,],\n",
        "               [1, 0, 1, 0, 0, 0, 0, 0,],\n",
        "               [1, 1, 1, 0, 0, 0, 0, 0,],\n",
        "               [0, 0, 0, 0, 0, 0, 0, 0,]], dtype=np.float32)\n",
        "y1 = 0\n",
        "\n",
        "x2 = np.array([[0, 0, 0, 0, 0, 1, 0, 1,],\n",
        "               [0, 0, 0, 0, 1, 0, 1, 0,],\n",
        "               [0, 0, 0, 0, 0, 1, 0, 0,],\n",
        "               [1, 0, 0, 0, 1, 0, 0, 0,],\n",
        "               [1, 1, 1, 1, 1, 0, 0, 0,],\n",
        "               [0, 0, 0, 0, 0, 0, 0, 0,],\n",
        "               [0, 0, 0, 0, 0, 0, 0, 0,],\n",
        "               [0, 0, 0, 0, 0, 0, 0, 0,]], dtype=np.float32)\n",
        "y2 = 1\n",
        "\n",
        "x3 = np.array([[0, 0, 0, 0, 0, 0, 0, 0,],\n",
        "               [0, 0, 0, 0, 0, 0, 0, 0,],\n",
        "               [0, 0, 0, 0, 0, 0, 0, 0,],\n",
        "               [0, 0, 1, 0, 0, 0, 0, 1,],\n",
        "               [0, 0, 1, 1, 1, 1, 1, 1,],\n",
        "               [0, 0, 0, 0, 0, 0, 0, 0,],\n",
        "               [0, 0, 0, 0, 1, 0, 0, 0,],\n",
        "               [0, 0, 0, 0, 0, 0, 0, 0,]], dtype=np.float32)\n",
        "y3 = 2"
      ],
      "metadata": {
        "id": "eKQf7FfEozPR"
      },
      "execution_count": null,
      "outputs": []
    },
    {
      "cell_type": "code",
      "source": [
        "# dataset = CIFAR10(os.getcwd(), download=True, transform=transforms.ToTensor())\n",
        "dataset = [(x1, y1), (x2, y2), (x3, y3)]\n",
        "trainloader = torch.utils.data.DataLoader(dataset, batch_size=10, shuffle=True, num_workers=1)"
      ],
      "metadata": {
        "id": "IArgQvDNes3m"
      },
      "execution_count": null,
      "outputs": []
    },
    {
      "cell_type": "code",
      "source": [
        "torch.manual_seed(27)\n",
        "mlp = MLP()"
      ],
      "metadata": {
        "id": "4iHQBlDZhi7-"
      },
      "execution_count": null,
      "outputs": []
    },
    {
      "cell_type": "code",
      "source": [
        "loss_function = nn.CrossEntropyLoss()\n",
        "optimizer = torch.optim.Adam(mlp.parameters(), lr=1e-4)\n",
        "epochs = 1000"
      ],
      "metadata": {
        "id": "-FeDi0Nqhmrc"
      },
      "execution_count": null,
      "outputs": []
    },
    {
      "cell_type": "code",
      "source": [
        "for epoch in range(epochs):\n",
        "  current_loss = 0.0\n",
        "  for i, data in enumerate(trainloader, 0):\n",
        "    inputs, targets = data\n",
        "    # Zero the gradients\n",
        "    optimizer.zero_grad()\n",
        "\n",
        "    # Perform forward pass\n",
        "    outputs = mlp(inputs)\n",
        "\n",
        "    # Compute loss\n",
        "    loss = loss_function(outputs, targets)\n",
        "\n",
        "    # Perform backward pass\n",
        "    loss.backward()\n",
        "\n",
        "    # Perform optimization\n",
        "    optimizer.step()\n",
        "\n",
        "    # Print statistics\n",
        "    current_loss += loss.item()\n",
        "  if epoch % 100 == 0:\n",
        "    print(f\"loss after epoch {epoch} = {current_loss}\")\n",
        "    current_loss = 0.0\n"
      ],
      "metadata": {
        "colab": {
          "base_uri": "https://localhost:8080/"
        },
        "id": "qFc202Q5ht5I",
        "outputId": "d7ff7901-b067-4eb5-edc0-7760d888642b"
      },
      "execution_count": null,
      "outputs": [
        {
          "output_type": "stream",
          "name": "stdout",
          "text": [
            "loss after epoch 0 = 1.1124707460403442\n",
            "loss after epoch 100 = 1.0937315225601196\n",
            "loss after epoch 200 = 1.0711406469345093\n",
            "loss after epoch 300 = 1.0450184345245361\n",
            "loss after epoch 400 = 1.0183435678482056\n",
            "loss after epoch 500 = 0.99102383852005\n",
            "loss after epoch 600 = 0.9621233344078064\n",
            "loss after epoch 700 = 0.9320527911186218\n",
            "loss after epoch 800 = 0.9014608263969421\n",
            "loss after epoch 900 = 0.870947539806366\n"
          ]
        }
      ]
    },
    {
      "cell_type": "code",
      "source": [
        "for i, data in enumerate(trainloader, 0):\n",
        "    inputs, targets = data\n",
        "    output = mlp(inputs)\n",
        "    for i in range(len(output)):\n",
        "      print(f\"label = {targets[i]} \\t output = {output[i]}\")"
      ],
      "metadata": {
        "colab": {
          "base_uri": "https://localhost:8080/"
        },
        "id": "Id20FtGRr7po",
        "outputId": "4a8f873c-b39c-4389-a3e0-58c96bd3b6ab"
      },
      "execution_count": null,
      "outputs": [
        {
          "output_type": "stream",
          "name": "stdout",
          "text": [
            "label = 2 \t output = tensor([0.2508, 0.1114, 0.6378], grad_fn=<SelectBackward0>)\n",
            "label = 1 \t output = tensor([0.3333, 0.5749, 0.0918], grad_fn=<SelectBackward0>)\n",
            "label = 0 \t output = tensor([0.6270, 0.1984, 0.1747], grad_fn=<SelectBackward0>)\n"
          ]
        }
      ]
    }
  ]
}